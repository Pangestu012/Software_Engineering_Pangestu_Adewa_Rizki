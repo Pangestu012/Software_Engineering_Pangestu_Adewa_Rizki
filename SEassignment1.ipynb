{
  "nbformat": 4,
  "nbformat_minor": 0,
  "metadata": {
    "colab": {
      "name": "SEassignment1.ipynb",
      "provenance": []
    },
    "kernelspec": {
      "name": "python3",
      "display_name": "Python 3"
    },
    "language_info": {
      "name": "python"
    }
  },
  "cells": [
    {
      "cell_type": "code",
      "metadata": {
        "id": "rV7o3vO6HyRg"
      },
      "source": [
        "# contoh variable\n",
        "a = 10 #integer\n",
        "b = 5.87 #Float\n",
        "c = \"Pangestu\" \"A\" #String\n",
        "d = True #Boolean\n",
        "e =  False  #Boolean\n",
        "h = [] #List\n",
        "i = {} #Dictionary\n",
        "j= () #Tuple"
      ],
      "execution_count": 2,
      "outputs": []
    },
    {
      "cell_type": "code",
      "metadata": {
        "colab": {
          "base_uri": "https://localhost:8080/"
        },
        "id": "FUZDqnn9KYAd",
        "outputId": "65db3b12-c3fe-4f32-894c-2d9ad36604e2"
      },
      "source": [
        "# print di pyton\n",
        "print(\"Pangestu\")\n",
        "print('alo alo') # bisa titik 2 bisa titik 1"
      ],
      "execution_count": 3,
      "outputs": [
        {
          "output_type": "stream",
          "name": "stdout",
          "text": [
            "Pangestu\n",
            "alo alo\n"
          ]
        }
      ]
    },
    {
      "cell_type": "code",
      "metadata": {
        "colab": {
          "base_uri": "https://localhost:8080/"
        },
        "id": "1JVqC3D0Kq0g",
        "outputId": "da0f939d-5c0a-498e-d0b3-7fcd42a85115"
      },
      "source": [
        "# print angka\n",
        "print(2*8)"
      ],
      "execution_count": 4,
      "outputs": [
        {
          "output_type": "stream",
          "name": "stdout",
          "text": [
            "16\n"
          ]
        }
      ]
    },
    {
      "cell_type": "code",
      "metadata": {
        "colab": {
          "base_uri": "https://localhost:8080/"
        },
        "id": "CPGIVOydK7jG",
        "outputId": "97a14140-d917-40e5-fd10-c78227cb9a6b"
      },
      "source": [
        "# mengabungkan (Concate) string\n",
        "print(\"Nilainya adalah {}\" .format(a))"
      ],
      "execution_count": 7,
      "outputs": [
        {
          "output_type": "stream",
          "name": "stdout",
          "text": [
            "Nilainya adalah 10\n"
          ]
        }
      ]
    },
    {
      "cell_type": "code",
      "metadata": {
        "colab": {
          "base_uri": "https://localhost:8080/"
        },
        "id": "aKaQP5b0MVmD",
        "outputId": "4e71bc5f-b87d-4942-a328-84c820ff827e"
      },
      "source": [
        "print(\"Nilai kalian semua adalah \" + str(b))"
      ],
      "execution_count": 9,
      "outputs": [
        {
          "output_type": "stream",
          "name": "stdout",
          "text": [
            "Nilai kalian semua adalah 5.87\n"
          ]
        }
      ]
    },
    {
      "cell_type": "code",
      "metadata": {
        "colab": {
          "base_uri": "https://localhost:8080/"
        },
        "id": "ayJYFh-WM62m",
        "outputId": "74e784f5-7b47-4641-9151-57a7db473869"
      },
      "source": [
        "# menggabung kan banyak string\n",
        "print(\"Namaku {}, Nilai ulanganku {}, dan aku orang jkt {}\".format(d,a,c) )"
      ],
      "execution_count": 11,
      "outputs": [
        {
          "output_type": "stream",
          "name": "stdout",
          "text": [
            "Namaku True, Nilai ulanganku 10, dan aku orang jkt PangestuA\n"
          ]
        }
      ]
    },
    {
      "cell_type": "code",
      "metadata": {
        "id": "QGnRIvktNuul"
      },
      "source": [
        "Sekolah = [\"Kelas\", 10, True, 5.87, [\"Hadi\", \"Budi\", \"Joko\"], {\"Hewan\":\"Gajah\"}]"
      ],
      "execution_count": 13,
      "outputs": []
    },
    {
      "cell_type": "code",
      "metadata": {
        "colab": {
          "base_uri": "https://localhost:8080/",
          "height": 35
        },
        "id": "Y4YWAydiOOTV",
        "outputId": "66459bf0-4a89-409e-f9b1-bbb6cc10833e"
      },
      "source": [
        "Sekolah [0]"
      ],
      "execution_count": 14,
      "outputs": [
        {
          "output_type": "execute_result",
          "data": {
            "application/vnd.google.colaboratory.intrinsic+json": {
              "type": "string"
            },
            "text/plain": [
              "'Kelas'"
            ]
          },
          "metadata": {},
          "execution_count": 14
        }
      ]
    },
    {
      "cell_type": "code",
      "metadata": {
        "colab": {
          "base_uri": "https://localhost:8080/"
        },
        "id": "EDp6n9UJOewS",
        "outputId": "7b51bb63-1789-419c-c908-5c431a60ef8d"
      },
      "source": [
        "Sekolah [4]"
      ],
      "execution_count": 15,
      "outputs": [
        {
          "output_type": "execute_result",
          "data": {
            "text/plain": [
              "['Hadi', 'Budi', 'Joko']"
            ]
          },
          "metadata": {},
          "execution_count": 15
        }
      ]
    },
    {
      "cell_type": "code",
      "metadata": {
        "colab": {
          "base_uri": "https://localhost:8080/",
          "height": 35
        },
        "id": "f46ufudDOw7D",
        "outputId": "970ff244-a396-4e14-a76b-34772a002c78"
      },
      "source": [
        "Sekolah [-1][\"Hewan\"]"
      ],
      "execution_count": 20,
      "outputs": [
        {
          "output_type": "execute_result",
          "data": {
            "application/vnd.google.colaboratory.intrinsic+json": {
              "type": "string"
            },
            "text/plain": [
              "'Gajah'"
            ]
          },
          "metadata": {},
          "execution_count": 20
        }
      ]
    },
    {
      "cell_type": "code",
      "metadata": {
        "id": "Fsn3ezPpPPx4"
      },
      "source": [
        "Nama_Siswa = [\"Hadi\", \"Budi\", \"Joko\", \"Danil\", \"Farrel\", \"Sueb\"]"
      ],
      "execution_count": 30,
      "outputs": []
    },
    {
      "cell_type": "code",
      "metadata": {
        "colab": {
          "base_uri": "https://localhost:8080/"
        },
        "id": "55B8yVuqP1FM",
        "outputId": "42047f9a-980f-4728-d2d2-6a98cdf4892b"
      },
      "source": [
        "Nama_Siswa [0:6:2]"
      ],
      "execution_count": 64,
      "outputs": [
        {
          "output_type": "execute_result",
          "data": {
            "text/plain": [
              "['Hadi', 'Joko', 'Farrel']"
            ]
          },
          "metadata": {},
          "execution_count": 64
        }
      ]
    },
    {
      "cell_type": "code",
      "metadata": {
        "colab": {
          "base_uri": "https://localhost:8080/"
        },
        "id": "owU43ZIpQnmR",
        "outputId": "789ec97d-8b61-4b15-9af4-6507bc72043e"
      },
      "source": [
        "Nama_Siswa[0:-1]"
      ],
      "execution_count": 57,
      "outputs": [
        {
          "output_type": "execute_result",
          "data": {
            "text/plain": [
              "['Hadi', 'Budi', 'Joko', 'Danil', 'Farrel']"
            ]
          },
          "metadata": {},
          "execution_count": 57
        }
      ]
    },
    {
      "cell_type": "code",
      "metadata": {
        "id": "P0rchzMzQr0H"
      },
      "source": [
        "Ditc1 = {\"Gajah\":\"kera\", \"4\":\"0\", \"Danil\":\"Farrel\"}"
      ],
      "execution_count": 32,
      "outputs": []
    },
    {
      "cell_type": "code",
      "metadata": {
        "colab": {
          "base_uri": "https://localhost:8080/",
          "height": 35
        },
        "id": "cy_ly16yRj1T",
        "outputId": "3fd3aeda-2b5f-4c26-b88b-ce6c62a3d54c"
      },
      "source": [
        "Ditc1 [\"Gajah\"]"
      ],
      "execution_count": 37,
      "outputs": [
        {
          "output_type": "execute_result",
          "data": {
            "application/vnd.google.colaboratory.intrinsic+json": {
              "type": "string"
            },
            "text/plain": [
              "'kera'"
            ]
          },
          "metadata": {},
          "execution_count": 37
        }
      ]
    },
    {
      "cell_type": "code",
      "metadata": {
        "colab": {
          "base_uri": "https://localhost:8080/",
          "height": 35
        },
        "id": "nIai6NbtSKWI",
        "outputId": "4df91922-9c02-4783-a10e-fe1fc66cd51a"
      },
      "source": [
        "Ditc1 [\"4\"]"
      ],
      "execution_count": 38,
      "outputs": [
        {
          "output_type": "execute_result",
          "data": {
            "application/vnd.google.colaboratory.intrinsic+json": {
              "type": "string"
            },
            "text/plain": [
              "'0'"
            ]
          },
          "metadata": {},
          "execution_count": 38
        }
      ]
    },
    {
      "cell_type": "code",
      "metadata": {
        "colab": {
          "base_uri": "https://localhost:8080/",
          "height": 35
        },
        "id": "ILUKJkqJSTi8",
        "outputId": "7187340d-da2e-4812-a339-a20a4be3fc8b"
      },
      "source": [
        "Ditc1 [\"Danil\"]"
      ],
      "execution_count": 39,
      "outputs": [
        {
          "output_type": "execute_result",
          "data": {
            "application/vnd.google.colaboratory.intrinsic+json": {
              "type": "string"
            },
            "text/plain": [
              "'Farrel'"
            ]
          },
          "metadata": {},
          "execution_count": 39
        }
      ]
    },
    {
      "cell_type": "code",
      "metadata": {
        "id": "dw8myf1xXtMC"
      },
      "source": [
        ""
      ],
      "execution_count": null,
      "outputs": []
    }
  ]
}